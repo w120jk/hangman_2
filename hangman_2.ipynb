{
 "cells": [
  {
   "cell_type": "code",
   "execution_count": 13,
   "metadata": {},
   "outputs": [],
   "source": [
    "def f(x):\n",
    "    return x+2"
   ]
  },
  {
   "cell_type": "code",
   "execution_count": 14,
   "metadata": {},
   "outputs": [
    {
     "data": {
      "text/plain": [
       "5"
      ]
     },
     "execution_count": 14,
     "metadata": {},
     "output_type": "execute_result"
    }
   ],
   "source": [
    "f(3)"
   ]
  },
  {
   "cell_type": "code",
   "execution_count": 17,
   "metadata": {},
   "outputs": [
    {
     "name": "stdout",
     "output_type": "stream",
     "text": [
      "年齢:23\n",
      "23は文字列\n",
      "23\n"
     ]
    }
   ],
   "source": [
    "#input関数は文字列を受け取る\n",
    "age = input(\"年齢:\")\n",
    "int_age = int(age)\n",
    "print(age+\"は文字列\")\n",
    "print(int_age)"
   ]
  },
  {
   "cell_type": "code",
   "execution_count": 1,
   "metadata": {},
   "outputs": [
    {
     "name": "stdout",
     "output_type": "stream",
     "text": [
      "A:20\n",
      "B:0\n",
      "正しい数値を入力してください\n"
     ]
    }
   ],
   "source": [
    "a = input(\"A:\")\n",
    "b = input(\"B:\")\n",
    "a = int(a)\n",
    "b = int(b)\n",
    "try:\n",
    "    print(a/b)\n",
    "except(ZeroDivisionError, ValueError):\n",
    "    print(\"正しい数値を入力してください\")"
   ]
  },
  {
   "cell_type": "code",
   "execution_count": 2,
   "metadata": {},
   "outputs": [
    {
     "name": "stdout",
     "output_type": "stream",
     "text": [
      "A:１１\n",
      "B:8\n",
      "1.375\n"
     ]
    }
   ],
   "source": [
    "try:\n",
    "    a = input(\"A:\")\n",
    "    b = input(\"B:\")\n",
    "    a = int(a)\n",
    "    b = int(b)\n",
    "    print(a/b)\n",
    "except(ZeroDivisionError, ValueError):\n",
    "    print(\"正しい数値を入力してください\")"
   ]
  },
  {
   "cell_type": "code",
   "execution_count": 5,
   "metadata": {},
   "outputs": [
    {
     "name": "stdout",
     "output_type": "stream",
     "text": [
      "x:20\n",
      "400\n"
     ]
    }
   ],
   "source": [
    "def square():\n",
    "    try:\n",
    "        x = input(\"x:\")\n",
    "        x = int(x)\n",
    "        print(x**2)\n",
    "    except(ZeroDivisionErro, ValueError):\n",
    "        print(\"正しい数値を入力してください\")\n",
    "square()"
   ]
  },
  {
   "cell_type": "code",
   "execution_count": 6,
   "metadata": {},
   "outputs": [
    {
     "name": "stdout",
     "output_type": "stream",
     "text": [
      "文字列:ああああ\n",
      "ああああ\n"
     ]
    }
   ],
   "source": [
    "def character():\n",
    "    x = input(\"文字列:\")\n",
    "    print(x)\n",
    "character()"
   ]
  },
  {
   "cell_type": "code",
   "execution_count": 13,
   "metadata": {},
   "outputs": [
    {
     "name": "stdout",
     "output_type": "stream",
     "text": [
      "入力:20\n"
     ]
    },
    {
     "data": {
      "text/plain": [
       "40.0"
      ]
     },
     "execution_count": 13,
     "metadata": {},
     "output_type": "execute_result"
    }
   ],
   "source": [
    "def half():\n",
    "    try:\n",
    "        x = input(\"入力:\")\n",
    "        x = int(x)\n",
    "        return x/2\n",
    "    except:\n",
    "        print(\"正しい数値を入力してください\")\n",
    "def fourth(x):\n",
    "    try:\n",
    "        return x*4\n",
    "    except:\n",
    "        print(\"失敗\")\n",
    "a = half()\n",
    "fourth(a)"
   ]
  },
  {
   "cell_type": "code",
   "execution_count": 15,
   "metadata": {},
   "outputs": [
    {
     "name": "stdout",
     "output_type": "stream",
     "text": [
      "入力:22.9\n"
     ]
    },
    {
     "data": {
      "text/plain": [
       "22.9"
      ]
     },
     "execution_count": 15,
     "metadata": {},
     "output_type": "execute_result"
    }
   ],
   "source": [
    "def turn_float():\n",
    "    try:\n",
    "        x = input(\"入力:\")\n",
    "        return float(x)\n",
    "    except ValueError:\n",
    "        print(\"だめ\")\n",
    "turn_float()"
   ]
  },
  {
   "cell_type": "code",
   "execution_count": 4,
   "metadata": {},
   "outputs": [
    {
     "name": "stdout",
     "output_type": "stream",
     "text": [
      "apple\n",
      "['apple', 'banana', 'orange', 'peach']\n"
     ]
    }
   ],
   "source": [
    "#リスト(変更可能)\n",
    "fruits = [\"apple\",\"banana\",\"orange\"]\n",
    "print(fruits[0])\n",
    "fruits.append(\"peach\")\n",
    "print(fruits)\n",
    "\n",
    "#タプル(変更不可能)\n",
    "fruits_tuple = (\"apple\",\"banana\",\"orange\")"
   ]
  },
  {
   "cell_type": "code",
   "execution_count": 2,
   "metadata": {},
   "outputs": [
    {
     "name": "stdout",
     "output_type": "stream",
     "text": [
      "[{'Wario', 'Waluigi', 'Tanuki'}, ['GBAMario_Circuit', 'MKStadium', 'New_Rainbow_Road'], ['Hanachan', 'Mr_scooty']]\n"
     ]
    }
   ],
   "source": [
    "character = {\"Tanuki\", \"Waluigi\", \"Wario\"}\n",
    "track = [\"GBAMario_Circuit\", \"MKStadium\", \"New_Rainbow_Road\"]\n",
    "Kart = [\"Hanachan\", \"Mr_scooty\"]\n",
    "favorite = [character,track,Kart]\n",
    "print(favorite)"
   ]
  },
  {
   "cell_type": "code",
   "execution_count": 3,
   "metadata": {},
   "outputs": [],
   "source": [
    "place = [(11,12),(22,33)]"
   ]
  },
  {
   "cell_type": "code",
   "execution_count": 6,
   "metadata": {},
   "outputs": [
    {
     "name": "stdout",
     "output_type": "stream",
     "text": [
      "じゅんぺい\n"
     ]
    }
   ],
   "source": [
    "Jumpei = {\"name\":\"じゅんぺい\",\"food\":[\"apple\",\"banana\"],\"music\":[\"KANA-BOON\",\"BaseBallBear\"]}\n",
    "print(Jumpei[\"name\"])"
   ]
  },
  {
   "cell_type": "code",
   "execution_count": 7,
   "metadata": {},
   "outputs": [
    {
     "name": "stdout",
     "output_type": "stream",
     "text": [
      "key:name\n",
      "じゅんぺい\n"
     ]
    }
   ],
   "source": [
    "a = input(\"key:\")\n",
    "print(Jumpei[a])"
   ]
  },
  {
   "cell_type": "code",
   "execution_count": 1,
   "metadata": {},
   "outputs": [
    {
     "name": "stdout",
     "output_type": "stream",
     "text": [
      "何が:ぼく\n",
      "いつ:三年前\n",
      "どこで：東京\n",
      "どうした:遊んだ\n",
      "ぼくが三年前に東京で遊んだ。\n"
     ]
    }
   ],
   "source": [
    "#formatメソッド、文字列をあとで穴埋め\n",
    "what = input(\"何が:\")\n",
    "when = input(\"いつ:\")\n",
    "where = input(\"どこで：\")\n",
    "do = input(\"どうした:\")\n",
    "\n",
    "r = \"{}が{}に{}で{}。\".format(what,when,where,do)\n",
    "print(r)"
   ]
  },
  {
   "cell_type": "code",
   "execution_count": 2,
   "metadata": {},
   "outputs": [
    {
     "name": "stdout",
     "output_type": "stream",
     "text": [
      "a+b+c\n"
     ]
    }
   ],
   "source": [
    "#splitメソッド、split(\"。\")なら。で文字列を分割\n",
    "#joinメソッド\n",
    "first_three = \"abc\"\n",
    "result = \"+\".join(first_three)\n",
    "print(result)"
   ]
  },
  {
   "cell_type": "code",
   "execution_count": 5,
   "metadata": {},
   "outputs": [
    {
     "name": "stdout",
     "output_type": "stream",
     "text": [
      "The fox jumped over the fence .\n",
      "aaa\n"
     ]
    }
   ],
   "source": [
    "words = [\"The\",\"fox\",\"jumped\",\"over\",\"the\",\"fence\",\".\"]\n",
    "one = \" \".join(words)\n",
    "print(one)\n",
    "s = \"      aaa       \"\n",
    "s = s.strip()\n",
    "print(s)"
   ]
  },
  {
   "cell_type": "code",
   "execution_count": 6,
   "metadata": {},
   "outputs": [
    {
     "data": {
      "text/plain": [
       "3"
      ]
     },
     "execution_count": 6,
     "metadata": {},
     "output_type": "execute_result"
    }
   ],
   "source": [
    "#indexメソッド　ある文字が文字列内で最初に現れる位置を探す\n",
    "\"animal\".index(\"m\")"
   ]
  },
  {
   "cell_type": "code",
   "execution_count": 8,
   "metadata": {},
   "outputs": [
    {
     "name": "stdout",
     "output_type": "stream",
     "text": [
      "True\n",
      "False\n",
      "True\n"
     ]
    }
   ],
   "source": [
    "print(\"Cat\" in \"Cat in the hat.\")\n",
    "print(\"Bat\" in \"Cat in the hat.\")\n",
    "print(\"Bat\" not in \"Cat in the hat.\")"
   ]
  },
  {
   "cell_type": "code",
   "execution_count": 9,
   "metadata": {},
   "outputs": [
    {
     "name": "stdout",
     "output_type": "stream",
     "text": [
      "ここで\n",
      "改行\n"
     ]
    }
   ],
   "source": [
    "#文字列の改行\n",
    "print(\"ここで\\n改行\")"
   ]
  },
  {
   "cell_type": "code",
   "execution_count": 11,
   "metadata": {},
   "outputs": [
    {
     "name": "stdout",
     "output_type": "stream",
     "text": [
      "['2', '3']\n",
      "['1', '2', '3', '4', '5']\n",
      "['1', '2', '3', '4', '5']\n",
      "['4', '5', '6']\n"
     ]
    }
   ],
   "source": [
    "#スライス\n",
    "number = [\"1\",\"2\",\"3\",\"4\",\"5\",\"6\"]\n",
    "print(number[1:3])\n",
    "print(number[0:5])\n",
    "print(number[:5])\n",
    "print(number[3:])"
   ]
  },
  {
   "cell_type": "code",
   "execution_count": 18,
   "metadata": {},
   "outputs": [
    {
     "name": "stdout",
     "output_type": "stream",
     "text": [
      "カ\n",
      "ミ\n",
      "ュ\n"
     ]
    }
   ],
   "source": [
    "c = \"カミュ\"\n",
    "print(c[0])\n",
    "print(c[1])\n",
    "print(c[2])"
   ]
  },
  {
   "cell_type": "code",
   "execution_count": 19,
   "metadata": {},
   "outputs": [
    {
     "name": "stdout",
     "output_type": "stream",
     "text": [
      "文字列１:あああ\n",
      "文字列２:びびび\n",
      "私は昨日あああを書いて、びびびに送った！\n"
     ]
    }
   ],
   "source": [
    "input1 = input(\"文字列１:\")\n",
    "input2 = input(\"文字列２:\")\n",
    "print(\"私は昨日{}を書いて、{}に送った！\".format(input1,input2))"
   ]
  },
  {
   "cell_type": "code",
   "execution_count": 21,
   "metadata": {},
   "outputs": [
    {
     "name": "stdout",
     "output_type": "stream",
     "text": [
      "ALDOUS HUXLEY WAS BORN IN 1894.\n"
     ]
    }
   ],
   "source": [
    "print(\"aldous Huxley was born in 1894.\".upper())"
   ]
  },
  {
   "cell_type": "code",
   "execution_count": 22,
   "metadata": {},
   "outputs": [
    {
     "data": {
      "text/plain": [
       "['どこで？', 'だれが？', 'いつ？']"
      ]
     },
     "execution_count": 22,
     "metadata": {},
     "output_type": "execute_result"
    }
   ],
   "source": [
    "\"どこで？ だれが？ いつ？\".split(\" \")"
   ]
  },
  {
   "cell_type": "code",
   "execution_count": 30,
   "metadata": {},
   "outputs": [
    {
     "name": "stdout",
     "output_type": "stream",
     "text": [
      "The fox jumped over the fence .\n"
     ]
    }
   ],
   "source": [
    "list = [\"The\",\"fox\",\"jumped\",\"over\",\"the\",\"fence\",\".\"]\n",
    "list = \" \".join(list)\n",
    "list = list.strip()\n",
    "print(list)"
   ]
  },
  {
   "cell_type": "code",
   "execution_count": 7,
   "metadata": {},
   "outputs": [
    {
     "name": "stdout",
     "output_type": "stream",
     "text": [
      "walking dead\n",
      "entourage\n",
      "the sopranos\n",
      "vampaia daialies\n"
     ]
    }
   ],
   "source": [
    "list = [\"walking dead\",\"entourage\",\"the sopranos\",\"vampaia daialies\"]\n",
    "for movie in list:\n",
    "    print(movie)"
   ]
  },
  {
   "cell_type": "code",
   "execution_count": 8,
   "metadata": {},
   "outputs": [
    {
     "name": "stdout",
     "output_type": "stream",
     "text": [
      "['AAA', 'FUJI', 'ABC']\n"
     ]
    }
   ],
   "source": [
    "tv = [\"aaa\",\"fuji\",\"abc\"]\n",
    "\n",
    "for i, new in enumerate(tv):\n",
    "    new = tv[i]\n",
    "    new = new.upper()\n",
    "    tv[i] = new\n",
    "\n",
    "print(tv)"
   ]
  },
  {
   "cell_type": "code",
   "execution_count": 10,
   "metadata": {},
   "outputs": [
    {
     "name": "stdout",
     "output_type": "stream",
     "text": [
      "10\n",
      "9\n",
      "8\n",
      "7\n",
      "6\n",
      "5\n",
      "4\n",
      "3\n",
      "2\n",
      "1\n"
     ]
    }
   ],
   "source": [
    "x = 10\n",
    "while x>0:\n",
    "    print(\"{}\".format(x))\n",
    "    x -= 1"
   ]
  },
  {
   "cell_type": "code",
   "execution_count": 11,
   "metadata": {},
   "outputs": [
    {
     "name": "stdout",
     "output_type": "stream",
     "text": [
      "0\n"
     ]
    }
   ],
   "source": [
    "for i in range(0, 100):\n",
    "    print(i)\n",
    "    break"
   ]
  },
  {
   "cell_type": "code",
   "execution_count": 13,
   "metadata": {},
   "outputs": [
    {
     "name": "stdout",
     "output_type": "stream",
     "text": [
      "Type q to quit\n",
      "What is your name?aaa\n",
      "Type q to quit\n",
      "What is your favorite color?bbb\n",
      "Type q to quit\n",
      "What is your quest?ccc\n",
      "Type q to quit\n",
      "What is your name?aaa\n",
      "Type q to quit\n",
      "What is your favorite color?bbb\n",
      "Type q to quit\n",
      "What is your quest?ccc\n",
      "Type q to quit\n",
      "What is your name?q\n"
     ]
    }
   ],
   "source": [
    "qs = [\"What is your name?\",\n",
    "      \"What is your favorite color?\",\n",
    "     \"What is your quest?\"]\n",
    "n = 0\n",
    "while True:\n",
    "    print(\"Type q to quit\")\n",
    "    a = input(qs[n])\n",
    "    if a == \"q\":\n",
    "        break\n",
    "    n = (n+1) % 3"
   ]
  },
  {
   "cell_type": "code",
   "execution_count": 14,
   "metadata": {},
   "outputs": [
    {
     "name": "stdout",
     "output_type": "stream",
     "text": [
      "3\n",
      "4.5\n"
     ]
    }
   ],
   "source": [
    "weight = [2.75,3,4.5,2]\n",
    "for i in weight:\n",
    "    if i <3:\n",
    "        continue\n",
    "    print(i)"
   ]
  },
  {
   "cell_type": "code",
   "execution_count": 15,
   "metadata": {},
   "outputs": [
    {
     "name": "stdout",
     "output_type": "stream",
     "text": [
      "1\n",
      "2\n",
      "4\n",
      "5\n"
     ]
    }
   ],
   "source": [
    "i = 1\n",
    "while i <= 5:\n",
    "    if i == 3:\n",
    "        i += 1\n",
    "        continue\n",
    "    print(i)\n",
    "    i += 1"
   ]
  },
  {
   "cell_type": "code",
   "execution_count": 22,
   "metadata": {},
   "outputs": [
    {
     "name": "stdout",
     "output_type": "stream",
     "text": [
      "25\n",
      "26\n",
      "27\n",
      "28\n",
      "29\n",
      "30\n",
      "31\n",
      "32\n",
      "33\n",
      "34\n",
      "35\n",
      "36\n",
      "37\n",
      "38\n",
      "39\n",
      "40\n",
      "41\n",
      "42\n",
      "43\n",
      "44\n",
      "45\n",
      "46\n",
      "47\n",
      "48\n",
      "49\n",
      "50\n"
     ]
    }
   ],
   "source": [
    "for i in range(25,51):\n",
    "    print(i)"
   ]
  },
  {
   "cell_type": "code",
   "execution_count": 31,
   "metadata": {},
   "outputs": [
    {
     "name": "stdout",
     "output_type": "stream",
     "text": [
      "0:walking dead\n",
      "1:entourage\n",
      "2:the sopranos\n",
      "3:vampaia daialies\n"
     ]
    }
   ],
   "source": [
    "list = [\"walking dead\",\"entourage\",\"the sopranos\",\"vampaia daialies\"]\n",
    "for i,name in enumerate(list):\n",
    "    print(\"{}:{}\".format(i,name))"
   ]
  },
  {
   "cell_type": "code",
   "execution_count": 1,
   "metadata": {},
   "outputs": [
    {
     "name": "stdout",
     "output_type": "stream",
     "text": [
      "aaa\n"
     ]
    }
   ],
   "source": [
    "print(\"aaa\")"
   ]
  },
  {
   "cell_type": "code",
   "execution_count": null,
   "metadata": {},
   "outputs": [],
   "source": [
    "while True:\n",
    "    a = input(\"入力:\")\n",
    "    number = [12,14,15]\n",
    "    if a == \"q\":\n",
    "        print(\"終了\")\n",
    "        break\n",
    "    for n in number:\n",
    "        if a == n:\n",
    "            print(\"正解！\")\n",
    "            break\n",
    "    print(\"不正解\")"
   ]
  },
  {
   "cell_type": "code",
   "execution_count": 5,
   "metadata": {},
   "outputs": [
    {
     "name": "stdout",
     "output_type": "stream",
     "text": [
      "プレイヤー１:apple\n",
      "_____\n"
     ]
    }
   ],
   "source": [
    "#ハングマン\n",
    "a = input(\"プレイヤー１:\")\n",
    "print(\"_\"*len(a))"
   ]
  },
  {
   "cell_type": "code",
   "execution_count": 1,
   "metadata": {},
   "outputs": [
    {
     "name": "stdout",
     "output_type": "stream",
     "text": [
      "プレイヤー１:cap\n",
      "___\n",
      "プレイヤー２、1文字入力:c\n",
      "せいこう\n",
      "ヒント\n",
      "c__\n",
      "プレイヤー２、1文字入力:a\n",
      "せいこう\n",
      "ヒント\n",
      "ca_\n",
      "プレイヤー２、1文字入力:b\n",
      "ヒント\n",
      "ca_\n",
      "プレイヤー２、1文字入力:p\n",
      "せいこう\n",
      "クリア！\n"
     ]
    }
   ],
   "source": [
    "#ハングマン\n",
    "a = input(\"プレイヤー１:\")\n",
    "print(\"_\"*len(a))\n",
    "a_list = list(a)\n",
    "a_under_bar = list(\"_\"*len(a))\n",
    "while True:\n",
    "    b = input(\"プレイヤー２、1文字入力:\")\n",
    "    if len(b) == 1:\n",
    "        for i in a_list:\n",
    "            if i == b:\n",
    "                print(\"せいこう\")\n",
    "                i_index = a_list.index(i)\n",
    "                a_under_bar[i_index] = a_list[i_index]\n",
    "        if \"\".join(a_under_bar) == a:\n",
    "            print(\"クリア！\")\n",
    "            break\n",
    "        else:\n",
    "            print(\"ヒント\")\n",
    "            print(\"\".join(a_under_bar))\n",
    "    else:\n",
    "        print(\"1文字だけ入力してください\")"
   ]
  },
  {
   "cell_type": "code",
   "execution_count": 1,
   "metadata": {},
   "outputs": [
    {
     "name": "stdout",
     "output_type": "stream",
     "text": [
      "aaa\n"
     ]
    }
   ],
   "source": [
    "print(\"aaa\")"
   ]
  },
  {
   "cell_type": "code",
   "execution_count": 8,
   "metadata": {},
   "outputs": [],
   "source": [
    "def hangman(word):\n",
    "    #wordはプレイヤー２に当ててほしい単語\n",
    "    wrong = 0\n",
    "    stages = [\"\",\n",
    "             \"________     \",\n",
    "             \"|            \",\n",
    "             \"|       |    \",\n",
    "             \"|       0    \",\n",
    "             \"|     / | \\  \",\n",
    "             \"|      / \\   \",\n",
    "             \"|            \"\n",
    "             ]\n",
    "    rletters = list(word)\n",
    "    board = [\"_\"] * len(word)\n",
    "    win = False\n",
    "    print(\"welcome to hangman\")\n",
    "    \n",
    "    while wrong < len(stages)-1:\n",
    "        print(\"\\n\")\n",
    "        msg = \"１文字を予想してね\"\n",
    "        char = input(msg)\n",
    "        if char in rletters:\n",
    "            cind = rletters.index(char)\n",
    "            board[cind] = char\n",
    "            rletters[cind] = \"$\"\n",
    "        else:\n",
    "            wrong += 1\n",
    "        print(\" \".join(board))\n",
    "        e = wrong+1\n",
    "        print(\"\\n\".join(stages[0:e]))\n",
    "        if \"_\" not in board:\n",
    "            print(\"あなたの勝ち！\")\n",
    "            print(\" \".join(board))\n",
    "            win = True\n",
    "            break\n",
    "    if not win:\n",
    "        print(\"\\n\".join(stages[0:wrong+1]))\n",
    "        print(\"あなたのまけ！正解は{}.\".format(word))"
   ]
  },
  {
   "cell_type": "code",
   "execution_count": 9,
   "metadata": {},
   "outputs": [
    {
     "name": "stdout",
     "output_type": "stream",
     "text": [
      "welcome to hangman\n",
      "\n",
      "\n",
      "１文字を予想してねf\n",
      "_ _ _\n",
      "\n",
      "________     \n",
      "\n",
      "\n",
      "１文字を予想してねl\n",
      "_ _ _\n",
      "\n",
      "________     \n",
      "|            \n",
      "\n",
      "\n",
      "１文字を予想してねc\n",
      "c _ _\n",
      "\n",
      "________     \n",
      "|            \n",
      "\n",
      "\n",
      "１文字を予想してねg\n",
      "c _ _\n",
      "\n",
      "________     \n",
      "|            \n",
      "|       |    \n",
      "\n",
      "\n",
      "１文字を予想してねm\n",
      "c _ _\n",
      "\n",
      "________     \n",
      "|            \n",
      "|       |    \n",
      "|       0    \n",
      "\n",
      "\n",
      "１文字を予想してねt\n",
      "c _ t\n",
      "\n",
      "________     \n",
      "|            \n",
      "|       |    \n",
      "|       0    \n",
      "\n",
      "\n",
      "１文字を予想してねa\n",
      "c a t\n",
      "\n",
      "________     \n",
      "|            \n",
      "|       |    \n",
      "|       0    \n",
      "あなたの勝ち！\n",
      "c a t\n"
     ]
    }
   ],
   "source": [
    "hangman(\"cat\")"
   ]
  },
  {
   "cell_type": "code",
   "execution_count": 3,
   "metadata": {},
   "outputs": [
    {
     "name": "stdout",
     "output_type": "stream",
     "text": [
      "\n",
      "\n",
      "入力：g\n",
      "['_', '_', 'g']\n",
      "現在の誤答数：0(6で負けです)\n",
      "\n",
      "\n",
      "入力：o\n",
      "['_', 'o', 'g']\n",
      "現在の誤答数：0(6で負けです)\n",
      "\n",
      "\n",
      "入力：p\n",
      "ちがいま～す\n",
      "['_', 'o', 'g']\n",
      "現在の誤答数：1(6で負けです)\n",
      "\n",
      "\n",
      "入力：aa\n",
      "１文字入力：kk\n",
      "ちがいま～す\n",
      "['_', 'o', 'g']\n",
      "現在の誤答数：2(6で負けです)\n",
      "\n",
      "\n",
      "入力：d\n",
      "['d', 'o', 'g']\n",
      "現在の誤答数：2(6で負けです)\n",
      "You win!!!\n"
     ]
    }
   ],
   "source": [
    "import random\n",
    "def hangman():\n",
    "    words = [\"food\",\"dog\",\"cat\",\"rain\",\"random\",\"eight\"]\n",
    "    ans_index = random.randint(1,6)\n",
    "    ans = words[ans_index]\n",
    "    wrong = 0\n",
    "    ans_letters = list(ans)\n",
    "    hint = [\"_\"]*len(ans_letters)\n",
    "    win = False\n",
    "    while wrong < 2*len(ans):\n",
    "        print(\"\\n\")\n",
    "        character = input(\"入力：\")\n",
    "        if len(character) >1:\n",
    "            character = input(\"１文字入力：\")\n",
    "        if character in ans_letters:\n",
    "            character_int = ans_letters.index(character)\n",
    "            hint[character_int] = ans_letters[character_int]\n",
    "        else:\n",
    "            print(\"ちがいま～す\")\n",
    "            wrong += 1\n",
    "        print(hint)\n",
    "        print(\"現在の誤答数：{}({}で負けです)\".format(str(wrong),2*len(ans)))\n",
    "        if \"_\" not in hint:\n",
    "            win = True\n",
    "            print(\"You win!!!\")\n",
    "            break\n",
    "    if not win:\n",
    "        print(\"まけ！！！\")\n",
    "\n",
    "hangman()"
   ]
  },
  {
   "cell_type": "code",
   "execution_count": 13,
   "metadata": {},
   "outputs": [],
   "source": [
    "import math\n",
    "class Circle:\n",
    "    def __init__(self,r,c):\n",
    "        self.radius = r\n",
    "        self.color = c\n",
    "    \n",
    "    def area(self):\n",
    "        return self.radius**2*math.pi"
   ]
  },
  {
   "cell_type": "code",
   "execution_count": 14,
   "metadata": {},
   "outputs": [
    {
     "name": "stdout",
     "output_type": "stream",
     "text": [
      "20\n",
      "red\n"
     ]
    }
   ],
   "source": [
    "c1 = Circle(20,\"red\")\n",
    "print(c1.radius)\n",
    "print(c1.color)"
   ]
  },
  {
   "cell_type": "code",
   "execution_count": 15,
   "metadata": {},
   "outputs": [
    {
     "name": "stdout",
     "output_type": "stream",
     "text": [
      "1256.6370614359173\n"
     ]
    }
   ],
   "source": [
    "print(c1.area())"
   ]
  },
  {
   "cell_type": "code",
   "execution_count": 1,
   "metadata": {},
   "outputs": [
    {
     "data": {
      "text/plain": [
       "<method-wrapper '__repr__' of str object at 0x000001676DCEE030>"
      ]
     },
     "execution_count": 1,
     "metadata": {},
     "output_type": "execute_result"
    }
   ],
   "source": [
    "\"apple\".__repr__"
   ]
  },
  {
   "cell_type": "code",
   "execution_count": 2,
   "metadata": {},
   "outputs": [
    {
     "name": "stdout",
     "output_type": "stream",
     "text": [
      "10\n"
     ]
    }
   ],
   "source": [
    "class AlwaysPositive:\n",
    "    def __init__(self, number):\n",
    "        self.n = number\n",
    "        \n",
    "    def __add__(self, other):\n",
    "        return abs(self.n + other.n)\n",
    "\n",
    "x = AlwaysPositive(-20)\n",
    "y = AlwaysPositive(10)\n",
    "print(x+y)"
   ]
  },
  {
   "cell_type": "code",
   "execution_count": 8,
   "metadata": {},
   "outputs": [
    {
     "name": "stdout",
     "output_type": "stream",
     "text": [
      "12\n",
      "8\n"
     ]
    }
   ],
   "source": [
    "class Rectangle:\n",
    "    def __init__(self,w,l):\n",
    "        self.width = w\n",
    "        self.len = l\n",
    "    def calculate_perimeter(self):\n",
    "        return 2*(self.width + self.len)    \n",
    "\n",
    "class Square(Rectangle):\n",
    "    square_list = []\n",
    "    def __init__(self,l):\n",
    "        self.width =l\n",
    "        self.len = l\n",
    "        square_list.append(self)\n",
    "        \n",
    "    def change_size(self,l):\n",
    "        self.width += l\n",
    "        self.len += 1\n",
    "    \n",
    "\n",
    "R_1 = Rectangle(2, 4)\n",
    "print(R_1.calculate_perimeter())\n",
    "S_1 = Square(2)\n",
    "print(S_1.calculate_perimeter())"
   ]
  },
  {
   "cell_type": "code",
   "execution_count": 2,
   "metadata": {},
   "outputs": [],
   "source": [
    "class Card:\n",
    "    suits = [\"spades\",\"hearts\",\"diamonds\",\"clubs\"]\n",
    "    \n",
    "    values = [None,None,\"2\",\"3\",\"4\",\"5\",\"6\",\"7\",\"8\",\"9\",\"10\",\"Jack\",\"Queen\",\"King\",\"Ace\"]\n",
    "    #Noneでインデックスと数を合わせている\n",
    "    \n",
    "    def __init__(self,v,s):\n",
    "        \"\"\"v,sは整数値\"\"\"\n",
    "        self.value = v\n",
    "        self.suit = s\n",
    "    \n",
    "    def __lt__(self,c2):\n",
    "        if self.value < c2.value:\n",
    "            return True\n",
    "        if self.value == c2.value:\n",
    "            if self.suit < c2.suit:\n",
    "                return True\n",
    "            else:\n",
    "                return False\n",
    "        return False\n",
    "    \n",
    "    def __gt__(self,c2):\n",
    "        if self.value > c2.value:\n",
    "            return True\n",
    "        if self.value == c2.value:\n",
    "            if self.suit > c2.suit:\n",
    "                return True\n",
    "            else:\n",
    "                return False\n",
    "        return False\n",
    "    \n",
    "    def __repr__(self):\n",
    "        v = self.values[self.value] + \" of \"+self.suits[self.suit]\n",
    "        return v"
   ]
  },
  {
   "cell_type": "code",
   "execution_count": 3,
   "metadata": {},
   "outputs": [
    {
     "name": "stdout",
     "output_type": "stream",
     "text": [
      "True\n",
      "10 of diamonds\n"
     ]
    }
   ],
   "source": [
    "card1 = Card(10,2)\n",
    "card2 = Card(11,3)\n",
    "print(card1<card2)\n",
    "print(card1)"
   ]
  },
  {
   "cell_type": "code",
   "execution_count": 4,
   "metadata": {},
   "outputs": [],
   "source": [
    "from random import shuffle\n",
    "class Deck:\n",
    "    def __init__(self):\n",
    "        self.cards = []\n",
    "        for i in range(2,15):\n",
    "            for j in range(4):\n",
    "                self.cards.append(Card(i,j))\n",
    "        shuffle(self.cards)\n",
    "        \n",
    "    def rm_card(self):\n",
    "        if len(self.cards) == 0:\n",
    "            return\n",
    "        return self.cards.pop()"
   ]
  },
  {
   "cell_type": "code",
   "execution_count": 6,
   "metadata": {},
   "outputs": [
    {
     "name": "stdout",
     "output_type": "stream",
     "text": [
      "9 of clubs\n",
      "5 of spades\n",
      "10 of diamonds\n",
      "7 of clubs\n",
      "Queen of hearts\n",
      "6 of diamonds\n",
      "4 of diamonds\n",
      "9 of diamonds\n",
      "8 of hearts\n",
      "2 of spades\n",
      "Ace of hearts\n",
      "3 of hearts\n",
      "Jack of clubs\n",
      "10 of spades\n",
      "Queen of diamonds\n",
      "7 of spades\n",
      "5 of hearts\n",
      "King of hearts\n",
      "3 of clubs\n",
      "Ace of spades\n",
      "2 of clubs\n",
      "7 of diamonds\n",
      "5 of diamonds\n",
      "4 of hearts\n",
      "7 of hearts\n",
      "8 of clubs\n",
      "4 of spades\n",
      "Jack of hearts\n",
      "6 of clubs\n",
      "Queen of clubs\n",
      "King of diamonds\n",
      "3 of diamonds\n",
      "King of spades\n",
      "Jack of spades\n",
      "8 of diamonds\n",
      "2 of hearts\n",
      "Ace of clubs\n",
      "Jack of diamonds\n",
      "9 of spades\n",
      "4 of clubs\n",
      "10 of clubs\n",
      "Ace of diamonds\n",
      "Queen of spades\n",
      "9 of hearts\n",
      "10 of hearts\n",
      "King of clubs\n",
      "2 of diamonds\n",
      "5 of clubs\n",
      "6 of hearts\n",
      "8 of spades\n",
      "6 of spades\n",
      "3 of spades\n"
     ]
    }
   ],
   "source": [
    "deck1 = Deck()\n",
    "for card in deck1.cards:\n",
    "    print(card)"
   ]
  },
  {
   "cell_type": "code",
   "execution_count": 15,
   "metadata": {},
   "outputs": [],
   "source": [
    "class Player:\n",
    "    def __init__(self,name):\n",
    "        self.wins = 0\n",
    "        self.card = None\n",
    "        self.name = name\n",
    "        \n",
    "class Game:\n",
    "    def __init__(self):\n",
    "        name1 = input(\"プレイヤー1の名前\")\n",
    "        name2 = input(\"プレイヤー2の名前\")\n",
    "        self.deck = Deck()\n",
    "        self.p1 = Player(name1)\n",
    "        self.p2 = Player(name2)\n",
    "    \n",
    "    def draw(self,p1n,p1c,p2n,p2c):\n",
    "        d = \"{}が{}を、{}が{}を引きました。\"\n",
    "        d = d.format(p1n,p1c,p2n,p2c)\n",
    "        print(d)\n",
    "        print(\\n)\n",
    "        \n",
    "    def wins(self,winner):\n",
    "        print(\"このラウンドは{}が勝ちました\".format(winner))\n",
    "    \n",
    "    def play_game(self):\n",
    "        cards = self.deck.cards\n",
    "        print(\"Start\")\n",
    "        while len(cards)>=2:\n",
    "            msg = \"qで終了、それ以外は続行\"\n",
    "            response  = input(msg)\n",
    "            if response == \"q\":\n",
    "                print(\"やめます\")\n",
    "                break\n",
    "            p1c = self.deck.rm_card()\n",
    "            p2c = self.deck.rm_card()\n",
    "            p1n = self.p1.name\n",
    "            p2n = self.p2.name\n",
    "            self.draw(p1n,p1c,p2n,p2c)\n",
    "            if p1c>p2c:\n",
    "                self.p1.wins += 1\n",
    "                self.wins(self.p1.name)\n",
    "            else:\n",
    "                self.p2.wins += 1\n",
    "                self.wins(self.p2.name)\n",
    "                \n",
    "        win = self.winner(self.p1,self.p2)\n",
    "        print(\"ゲーム終了、{}の勝利です!\".format(win))\n",
    "        \n",
    "    def winner(self,p1,p2):\n",
    "        if p1.wins > p2.wins:\n",
    "            return p1.name\n",
    "        if p1.wins < p2.wins:\n",
    "            return p2.name\n",
    "        return \"引き分け！\""
   ]
  },
  {
   "cell_type": "code",
   "execution_count": 16,
   "metadata": {},
   "outputs": [
    {
     "name": "stdout",
     "output_type": "stream",
     "text": [
      "プレイヤー1の名前a\n",
      "プレイヤー2の名前b\n",
      "Start\n",
      "qで終了、それ以外は続行a\n",
      "aがQueen of spadesを、bが7 of spadesを引きました。\n",
      "このラウンドはaが勝ちました\n",
      "qで終了、それ以外は続行a\n",
      "aが2 of diamondsを、bが8 of heartsを引きました。\n",
      "このラウンドはbが勝ちました\n",
      "qで終了、それ以外は続行a\n",
      "aが10 of clubsを、bがQueen of clubsを引きました。\n",
      "このラウンドはbが勝ちました\n",
      "qで終了、それ以外は続行a\n",
      "aが7 of heartsを、bがKing of diamondsを引きました。\n",
      "このラウンドはbが勝ちました\n",
      "qで終了、それ以外は続行a\n",
      "aが8 of diamondsを、bが7 of clubsを引きました。\n",
      "このラウンドはaが勝ちました\n",
      "qで終了、それ以外は続行a\n",
      "aがJack of clubsを、bが6 of heartsを引きました。\n",
      "このラウンドはaが勝ちました\n",
      "qで終了、それ以外は続行a\n",
      "aがAce of clubsを、bが6 of diamondsを引きました。\n",
      "このラウンドはaが勝ちました\n",
      "qで終了、それ以外は続行a\n",
      "aがKing of clubsを、bが4 of clubsを引きました。\n",
      "このラウンドはaが勝ちました\n",
      "qで終了、それ以外は続行a\n",
      "aが5 of heartsを、bが9 of clubsを引きました。\n",
      "このラウンドはbが勝ちました\n",
      "qで終了、それ以外は続行a\n",
      "aがAce of heartsを、bが4 of spadesを引きました。\n",
      "このラウンドはaが勝ちました\n",
      "qで終了、それ以外は続行a\n",
      "aが8 of spadesを、bが9 of diamondsを引きました。\n",
      "このラウンドはbが勝ちました\n",
      "qで終了、それ以外は続行a\n",
      "aが5 of spadesを、bが4 of diamondsを引きました。\n",
      "このラウンドはaが勝ちました\n",
      "qで終了、それ以外は続行a\n",
      "aが10 of diamondsを、bが3 of spadesを引きました。\n",
      "このラウンドはaが勝ちました\n",
      "qで終了、それ以外は続行a\n",
      "aが6 of clubsを、bがQueen of heartsを引きました。\n",
      "このラウンドはbが勝ちました\n",
      "qで終了、それ以外は続行a\n",
      "aが9 of heartsを、bがKing of heartsを引きました。\n",
      "このラウンドはbが勝ちました\n",
      "qで終了、それ以外は続行a\n",
      "aが10 of spadesを、bが10 of heartsを引きました。\n",
      "このラウンドはbが勝ちました\n",
      "qで終了、それ以外は続行aa\n",
      "aが8 of clubsを、bが2 of clubsを引きました。\n",
      "このラウンドはaが勝ちました\n",
      "qで終了、それ以外は続行a\n",
      "aが3 of diamondsを、bがJack of diamondsを引きました。\n",
      "このラウンドはbが勝ちました\n",
      "qで終了、それ以外は続行a\n",
      "aがJack of spadesを、bが9 of spadesを引きました。\n",
      "このラウンドはaが勝ちました\n",
      "qで終了、それ以外は続行a\n",
      "aがAce of diamondsを、bが7 of diamondsを引きました。\n",
      "このラウンドはaが勝ちました\n",
      "qで終了、それ以外は続行a\n",
      "aがKing of spadesを、bが3 of heartsを引きました。\n",
      "このラウンドはaが勝ちました\n",
      "qで終了、それ以外は続行a\n",
      "aが2 of heartsを、bが6 of spadesを引きました。\n",
      "このラウンドはbが勝ちました\n",
      "qで終了、それ以外は続行a\n",
      "aが5 of clubsを、bが2 of spadesを引きました。\n",
      "このラウンドはaが勝ちました\n",
      "qで終了、それ以外は続行a\n",
      "aがAce of spadesを、bが4 of heartsを引きました。\n",
      "このラウンドはaが勝ちました\n",
      "qで終了、それ以外は続行a\n",
      "aがJack of heartsを、bが3 of clubsを引きました。\n",
      "このラウンドはaが勝ちました\n",
      "qで終了、それ以外は続行a\n",
      "aがQueen of diamondsを、bが5 of diamondsを引きました。\n",
      "このラウンドはaが勝ちました\n",
      "ゲーム終了、aの勝利です!\n"
     ]
    }
   ],
   "source": [
    "game1 = Game().play_game()"
   ]
  },
  {
   "cell_type": "code",
   "execution_count": 17,
   "metadata": {},
   "outputs": [
    {
     "name": "stdout",
     "output_type": "stream",
     "text": [
      "['Beautiful']\n"
     ]
    }
   ],
   "source": [
    "import re\n",
    "l = \"Beautiful is better than ugly.\"\n",
    "matches = re.findall(\"Beautiful\",l)\n",
    "\n",
    "print(matches)"
   ]
  },
  {
   "cell_type": "code",
   "execution_count": null,
   "metadata": {},
   "outputs": [],
   "source": []
  }
 ],
 "metadata": {
  "kernelspec": {
   "display_name": "Python 3",
   "language": "python",
   "name": "python3"
  },
  "language_info": {
   "codemirror_mode": {
    "name": "ipython",
    "version": 3
   },
   "file_extension": ".py",
   "mimetype": "text/x-python",
   "name": "python",
   "nbconvert_exporter": "python",
   "pygments_lexer": "ipython3",
   "version": "3.7.4"
  }
 },
 "nbformat": 4,
 "nbformat_minor": 2
}
